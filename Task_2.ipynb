{
  "nbformat": 4,
  "nbformat_minor": 0,
  "metadata": {
    "colab": {
      "provenance": []
    },
    "kernelspec": {
      "name": "python3",
      "display_name": "Python 3"
    },
    "language_info": {
      "name": "python"
    }
  },
  "cells": [
    {
      "cell_type": "code",
      "source": [
        "import pandas as pd\n",
        "from sklearn.feature_extraction.text import TfidfVectorizer\n",
        "from sklearn.metrics.pairwise import linear_kernel\n",
        "\n",
        "# Sample restaurant data\n",
        "restaurants = pd.DataFrame({\n",
        "    'Name': ['Restaurant A', 'Restaurant B', 'Restaurant C'],\n",
        "    'Cuisine': ['Italian', 'Chinese', 'Indian'],\n",
        "    'PriceRange': ['Mid-range', 'Budget-friendly', 'Upscale'],\n",
        "    'Location': ['Downtown', 'Suburb', 'City Center'],\n",
        "})\n",
        "\n",
        "# Create a feature matrix based on cuisine and price range\n",
        "tfidf_vectorizer = TfidfVectorizer(stop_words='english')\n",
        "restaurant_features = tfidf_vectorizer.fit_transform(\n",
        "    restaurants['Cuisine'] + ' ' + restaurants['PriceRange']\n",
        ")\n",
        "\n",
        "# Calculate cosine similarity between restaurants\n",
        "cosine_sim = linear_kernel(restaurant_features, restaurant_features)\n",
        "\n",
        "# Function to recommend restaurants\n",
        "def recommend_restaurants(name, cosine_sim=cosine_sim):\n",
        "    idx = restaurants[restaurants['Name'] == name].index[0]\n",
        "    sim_scores = list(enumerate(cosine_sim[idx]))\n",
        "    sim_scores = sorted(sim_scores, key=lambda x: x[1], reverse=True)\n",
        "    sim_scores = sim_scores[1:]  # Exclude the same restaurant\n",
        "    recommended_indices = [i[0] for i in sim_scores]\n",
        "    return restaurants['Name'].iloc[recommended_indices]\n",
        "\n",
        "# Example: Recommend restaurants similar to 'Restaurant A'\n",
        "recommended_restaurants = recommend_restaurants('Restaurant A')\n",
        "print(\"Recommended restaurants:\")\n",
        "for restaurant in recommended_restaurants:\n",
        "    print(restaurant)"
      ],
      "metadata": {
        "colab": {
          "base_uri": "https://localhost:8080/"
        },
        "id": "avYODqh5msYY",
        "outputId": "05af0c6f-f756-4701-b89f-214956a9a085"
      },
      "execution_count": null,
      "outputs": [
        {
          "output_type": "stream",
          "name": "stdout",
          "text": [
            "Recommended restaurants:\n",
            "Restaurant B\n",
            "Restaurant C\n"
          ]
        }
      ]
    }
  ]
}