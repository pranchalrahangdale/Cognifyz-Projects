{
  "nbformat": 4,
  "nbformat_minor": 0,
  "metadata": {
    "colab": {
      "provenance": []
    },
    "kernelspec": {
      "name": "python3",
      "display_name": "Python 3"
    },
    "language_info": {
      "name": "python"
    }
  },
  "cells": [
    {
      "cell_type": "code",
      "source": [
        "import pandas as pd\n",
        "import folium\n",
        "from folium.plugins import HeatMap\n",
        "import seaborn as sns\n",
        "import matplotlib.pyplot as plt\n",
        "\n",
        "# Load dataset\n",
        "df = pd.read_csv('restaurants.csv')\n",
        "\n",
        "# Visualize restaurant distribution on a map\n",
        "map_center = [df['latitude'].mean(), df['longitude'].mean()]\n",
        "m = folium.Map(location=map_center, zoom_start=12)\n",
        "\n",
        "# Add restaurant locations to the map\n",
        "for i, row in df.iterrows():\n",
        "    folium.Marker(\n",
        "        location=[row['latitude'], row['longitude']],\n",
        "        popup=f\"{row['cuisine']} - Rating: {row['rating']} - Price: {row['price_range']}\"\n",
        "    ).add_to(m)\n",
        "\n",
        "# Save map to HTML\n",
        "m.save('restaurants_map.html')\n",
        "\n",
        "# Group by city and calculate statistics\n",
        "city_stats = df.groupby('city').agg(\n",
        "    num_restaurants=('restaurant_id', 'count'),\n",
        "    avg_rating=('rating', 'mean'),\n",
        "    avg_price_range=('price_range', lambda x: x.mode()[0])  # Mode for price range\n",
        ").reset_index()\n",
        "\n",
        "print(\"City Statistics:\")\n",
        "print(city_stats)\n",
        "\n",
        "# Visualize distribution by city\n",
        "plt.figure(figsize=(10, 6))\n",
        "sns.barplot(x='city', y='num_restaurants', data=city_stats)\n",
        "plt.xticks(rotation=45)\n",
        "plt.title('Number of Restaurants by City')\n",
        "plt.xlabel('City')\n",
        "plt.ylabel('Number of Restaurants')\n",
        "plt.tight_layout()\n",
        "plt.savefig('restaurants_by_city.png')\n",
        "\n",
        "# Heatmap for restaurant density\n",
        "heat_data = df[['latitude', 'longitude']].values\n",
        "heat_map = folium.Map(location=map_center, zoom_start=12)\n",
        "HeatMap(heat_data).add_to(heat_map)\n",
        "\n",
        "# Save heatmap to HTML\n",
        "heat_map.save('restaurants_heatmap.html')\n",
        "\n",
        "# Additional insights and patterns\n",
        "most_common_cuisine = df.groupby('city')['cuisine'].agg(lambda x: x.mode()[0]).reset_index()\n",
        "print(\"\\nMost Common Cuisine by City:\")\n",
        "print(most_common_cuisine)"
      ],
      "metadata": {
        "id": "Rp8dk3oijus2"
      },
      "execution_count": null,
      "outputs": []
    }
  ]
}